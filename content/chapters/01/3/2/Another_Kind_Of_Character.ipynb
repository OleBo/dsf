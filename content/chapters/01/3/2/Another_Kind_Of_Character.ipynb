{
 "cells": [
  {
   "cell_type": "code",
   "execution_count": 1,
   "metadata": {},
   "outputs": [],
   "source": [
    "# HIDDEN\n",
    "from datascience import *\n",
    "import numpy as np\n",
    "path_data = '../../../../../data/'\n",
    "import matplotlib\n",
    "matplotlib.use('Agg', warn=False)\n",
    "%matplotlib inline\n",
    "import matplotlib.pyplot as plots\n",
    "plots.style.use('fivethirtyeight')\n",
    "import warnings\n",
    "warnings.simplefilter(action=\"ignore\", category=FutureWarning)\n",
    "\n",
    "from urllib.request import urlopen \n",
    "import re\n",
    "def read_url(url): \n",
    "    return re.sub('\\\\s+', ' ', urlopen(url).read().decode())"
   ]
  },
  {
   "cell_type": "code",
   "execution_count": 2,
   "metadata": {},
   "outputs": [],
   "source": [
    "# HIDDEN\n",
    "\n",
    "# Read two books, fast (again)!\n",
    "\n",
    "huck_finn_url = 'https://olebo.github.io/dsf/data/huck_finn.txt'\n",
    "huck_finn_text = read_url(huck_finn_url)\n",
    "huck_finn_chapters = huck_finn_text.split('CHAPTER ')[44:]\n",
    "\n",
    "little_women_url = 'https://olebo.github.io/dsf/data/little_women.txt'\n",
    "little_women_text = read_url(little_women_url)\n",
    "little_women_chapters = little_women_text.split('CHAPTER ')[1:]"
   ]
  },
  {
   "cell_type": "markdown",
   "metadata": {},
   "source": [
    "# Another Kind of Character\n",
    "\n",
    "In some situations, the relationships between quantities allow us to make predictions. This text will explore how to make accurate predictions based on incomplete information and develop methods for combining multiple sources of uncertain information to make decisions.\n",
    "\n",
    "As an example of visualizing information derived from multiple sources, let us first use the computer to get some information that would be tedious to acquire by hand. In the context of novels, the word \"character\" has a second meaning: a printed symbol such as a letter or number or punctuation symbol. Here, we ask the computer to count the number of characters and the number of periods in each chapter of both *Huckleberry Finn* and *Little Women*."
   ]
  },
  {
   "cell_type": "code",
   "execution_count": 3,
   "metadata": {},
   "outputs": [],
   "source": [
    "# In each chapter, count the number of all characters;\n",
    "# call this the \"length\" of the chapter.\n",
    "# Also count the number of periods.\n",
    "\n",
    "chars_periods_huck_finn = Table().with_columns([\n",
    "        'Huck Finn Chapter Length', [len(s) for s in huck_finn_chapters],\n",
    "        'Number of Periods', np.char.count(huck_finn_chapters, '.')\n",
    "    ])\n",
    "chars_periods_little_women = Table().with_columns([\n",
    "        'Little Women Chapter Length', [len(s) for s in little_women_chapters],\n",
    "        'Number of Periods', np.char.count(little_women_chapters, '.')\n",
    "    ])"
   ]
  },
  {
   "cell_type": "markdown",
   "metadata": {},
   "source": [
    "Here are the data for *Huckleberry Finn*. Each row of the table corresponds to one chapter of the novel and displays the number of characters as well as the number of periods in the chapter. Not surprisingly, chapters with fewer characters also tend to have fewer periods, in general: the shorter the chapter, the fewer sentences there tend to be, and vice versa. The relation is not entirely predictable, however, as sentences are of varying lengths and can involve other punctuation such as question marks. "
   ]
  },
  {
   "cell_type": "code",
   "execution_count": 4,
   "metadata": {},
   "outputs": [
    {
     "data": {
      "text/html": [
       "<table border=\"1\" class=\"dataframe\">\n",
       "    <thead>\n",
       "        <tr>\n",
       "            <th>Huck Finn Chapter Length</th> <th>Number of Periods</th>\n",
       "        </tr>\n",
       "    </thead>\n",
       "    <tbody>\n",
       "        <tr>\n",
       "            <td>7026                    </td> <td>66               </td>\n",
       "        </tr>\n",
       "        <tr>\n",
       "            <td>11982                   </td> <td>117              </td>\n",
       "        </tr>\n",
       "        <tr>\n",
       "            <td>8529                    </td> <td>72               </td>\n",
       "        </tr>\n",
       "        <tr>\n",
       "            <td>6799                    </td> <td>84               </td>\n",
       "        </tr>\n",
       "        <tr>\n",
       "            <td>8166                    </td> <td>91               </td>\n",
       "        </tr>\n",
       "        <tr>\n",
       "            <td>14550                   </td> <td>125              </td>\n",
       "        </tr>\n",
       "        <tr>\n",
       "            <td>13218                   </td> <td>127              </td>\n",
       "        </tr>\n",
       "        <tr>\n",
       "            <td>22208                   </td> <td>249              </td>\n",
       "        </tr>\n",
       "        <tr>\n",
       "            <td>8081                    </td> <td>71               </td>\n",
       "        </tr>\n",
       "        <tr>\n",
       "            <td>7036                    </td> <td>70               </td>\n",
       "        </tr>\n",
       "    </tbody>\n",
       "</table>\n",
       "<p>... (33 rows omitted)</p>"
      ],
      "text/plain": [
       "Huck Finn Chapter Length | Number of Periods\n",
       "7026                     | 66\n",
       "11982                    | 117\n",
       "8529                     | 72\n",
       "6799                     | 84\n",
       "8166                     | 91\n",
       "14550                    | 125\n",
       "13218                    | 127\n",
       "22208                    | 249\n",
       "8081                     | 71\n",
       "7036                     | 70\n",
       "... (33 rows omitted)"
      ]
     },
     "execution_count": 4,
     "metadata": {},
     "output_type": "execute_result"
    }
   ],
   "source": [
    "chars_periods_huck_finn"
   ]
  },
  {
   "cell_type": "markdown",
   "metadata": {},
   "source": [
    "Here are the corresponding data for *Little Women*."
   ]
  },
  {
   "cell_type": "code",
   "execution_count": 5,
   "metadata": {},
   "outputs": [
    {
     "data": {
      "text/html": [
       "<table border=\"1\" class=\"dataframe\">\n",
       "    <thead>\n",
       "        <tr>\n",
       "            <th>Little Women Chapter Length</th> <th>Number of Periods</th>\n",
       "        </tr>\n",
       "    </thead>\n",
       "    <tbody>\n",
       "        <tr>\n",
       "            <td>21759                      </td> <td>189              </td>\n",
       "        </tr>\n",
       "        <tr>\n",
       "            <td>22148                      </td> <td>188              </td>\n",
       "        </tr>\n",
       "        <tr>\n",
       "            <td>20558                      </td> <td>231              </td>\n",
       "        </tr>\n",
       "        <tr>\n",
       "            <td>25526                      </td> <td>195              </td>\n",
       "        </tr>\n",
       "        <tr>\n",
       "            <td>23395                      </td> <td>255              </td>\n",
       "        </tr>\n",
       "        <tr>\n",
       "            <td>14622                      </td> <td>140              </td>\n",
       "        </tr>\n",
       "        <tr>\n",
       "            <td>14431                      </td> <td>131              </td>\n",
       "        </tr>\n",
       "        <tr>\n",
       "            <td>22476                      </td> <td>214              </td>\n",
       "        </tr>\n",
       "        <tr>\n",
       "            <td>33767                      </td> <td>337              </td>\n",
       "        </tr>\n",
       "        <tr>\n",
       "            <td>18508                      </td> <td>185              </td>\n",
       "        </tr>\n",
       "    </tbody>\n",
       "</table>\n",
       "<p>... (37 rows omitted)</p>"
      ],
      "text/plain": [
       "Little Women Chapter Length | Number of Periods\n",
       "21759                       | 189\n",
       "22148                       | 188\n",
       "20558                       | 231\n",
       "25526                       | 195\n",
       "23395                       | 255\n",
       "14622                       | 140\n",
       "14431                       | 131\n",
       "22476                       | 214\n",
       "33767                       | 337\n",
       "18508                       | 185\n",
       "... (37 rows omitted)"
      ]
     },
     "execution_count": 5,
     "metadata": {},
     "output_type": "execute_result"
    }
   ],
   "source": [
    "chars_periods_little_women"
   ]
  },
  {
   "cell_type": "markdown",
   "metadata": {},
   "source": [
    "You can see that the chapters of *Little Women* are in general longer than those of *Huckleberry Finn*. Let us see if these two simple variables – the length and number of periods in each chapter – can tell us anything more about the two books. One way to do this is to plot both sets of data on the same axes. \n",
    "\n",
    "In the plot below, there is a dot for each chapter in each book. Blue dots correspond to *Huckleberry Finn* and gold dots to *Little Women*. The horizontal axis represents the number of periods and the vertical axis represents the number of characters."
   ]
  },
  {
   "cell_type": "code",
   "execution_count": 10,
   "metadata": {},
   "outputs": [
    {
     "data": {
      "image/png": "[encoded data removed]",
      "text/plain": [
       "<Figure size 432x432 with 1 Axes>"
      ]
     },
     "metadata": {},
     "output_type": "display_data"
    }
   ],
   "source": [
    "plots.figure(figsize=(6, 6))\n",
    "plots.scatter(chars_periods_huck_finn.column(1), \n",
    "              chars_periods_huck_finn.column(0), \n",
    "              color='darkblue')\n",
    "plots.scatter(chars_periods_little_women.column(1), \n",
    "              chars_periods_little_women.column(0), \n",
    "              color='gold')\n",
    "plots.title('140-character sentense (limit of Twitter)')\n",
    "plots.legend(['Huckleberry Finn','Little Women'])\n",
    "plots.xlabel('Number of periods in chapter')\n",
    "plots.ylabel('Number of characters in chapter');"
   ]
  },
  {
   "cell_type": "markdown",
   "metadata": {},
   "source": [
    "The plot shows us that many but not all of the chapters of *Little Women* are longer than those of *Huckleberry Finn*, as we had observed by just looking at the numbers. But it also shows us something more. Notice how the blue points are roughly clustered around a straight line, as are the yellow points. Moreover, it looks as though both colors of points might be clustered around the *same* straight line."
   ]
  },
  {
   "cell_type": "markdown",
   "metadata": {},
   "source": [
    "Now look at all the chapters that contain about 100 periods. The plot shows that those chapters contain about 10,000 characters to about 15,000 characters, roughly. That's about 100 to 150 characters per period.\n",
    "\n",
    "Indeed, it appears from looking at the plot that on average both books tend to have somewhere between 100 and 150 characters between periods, as a very rough estimate. Perhaps these two great 19th century novels were signaling something so very familiar to us now: the 140-character limit of Twitter."
   ]
  }
 ],
 "metadata": {
  "kernelspec": {
   "display_name": "Python 3",
   "language": "python",
   "name": "python3"
  },
  "language_info": {
   "codemirror_mode": {
    "name": "ipython",
    "version": 3
   },
   "file_extension": ".py",
   "mimetype": "text/x-python",
   "name": "python",
   "nbconvert_exporter": "python",
   "pygments_lexer": "ipython3",
   "version": "3.7.2"
  }
 },
 "nbformat": 4,
 "nbformat_minor": 2
}
